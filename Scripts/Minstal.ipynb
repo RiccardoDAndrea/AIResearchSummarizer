{
 "cells": [
  {
   "cell_type": "code",
   "execution_count": null,
   "metadata": {},
   "outputs": [],
   "source": [
    "from langchain_community.vectorstores import Chroma\n",
    "from langchain.embeddings import SentenceTransformerEmbeddings\n",
    "from langchain.text_splitter import CharacterTextSplitter\n",
    "from langchain.text_splitter import RecursiveCharacterTextSplitter\n",
    "from langchain_community.document_loaders import UnstructuredHTMLLoader \n",
    "from langchain_openai import OpenAIEmbeddings\n",
    "from langchain.chains import RetrievalQA\n",
    "from langchain.chains import RetrievalQAWithSourcesChain\n",
    "from langchain.embeddings import HuggingFaceEmbeddings\n",
    "from langchain_community.document_loaders import PyPDFLoader\n",
    "from langchain_community.llms import HuggingFaceHub\n",
    "from langchain.chains import LLMChain, ConversationChain\n",
    "from langchain.prompts import PromptTemplate\n",
    "from langchain.memory import ChatMessageHistory, ConversationBufferMemory,ConversationSummaryMemory\n",
    "\n",
    "from langchain_community.llms import HuggingFaceEndpoint\n",
    "\n",
    "\n",
    "\n"
   ]
  },
  {
   "cell_type": "code",
   "execution_count": null,
   "metadata": {},
   "outputs": [],
   "source": [
    "import json\n",
    "\n",
    "# Öffne die JSON-Datei und lade den Inhalt\n",
    "with open('/Users/riccardo/Desktop/Repositorys_Github/LLM/Docs/api_token.json', 'r') as api_file:\n",
    "    api_token_file = json.load(api_file)\n",
    "\n",
    "# Extrahiere die Variable aus den Daten\n",
    "api_token = api_token_file['Hugging_face_token']"
   ]
  },
  {
   "cell_type": "code",
   "execution_count": null,
   "metadata": {},
   "outputs": [],
   "source": [
    "text_splitter = RecursiveCharacterTextSplitter(\n",
    "    chunk_size=1000,\n",
    "    chunk_overlap=50, \n",
    "    length_function = len)\n",
    "text_splitter"
   ]
  },
  {
   "cell_type": "code",
   "execution_count": null,
   "metadata": {},
   "outputs": [],
   "source": [
    "filepath = '/Users/riccardo/Desktop/Repositorys_Github/LLM/Docs/docs_for_llm_pipline/merged.pdf'\n",
    "loader = PyPDFLoader(filepath)\n",
    "chunks = loader.load_and_split(text_splitter=text_splitter)"
   ]
  },
  {
   "cell_type": "code",
   "execution_count": null,
   "metadata": {},
   "outputs": [],
   "source": [
    "for chunk in chunks:\n",
    "    print(\"Page content: \\n\", chunk.page_content),\n",
    "    print(\"Page_metadata: \\n\", chunk.metadata),\n",
    "    print(\"----------------------------\")"
   ]
  },
  {
   "cell_type": "code",
   "execution_count": null,
   "metadata": {},
   "outputs": [],
   "source": [
    "embedding_function = SentenceTransformerEmbeddings(model_name=\"BAAI/bge-large-zh-v1.5\")"
   ]
  },
  {
   "cell_type": "code",
   "execution_count": null,
   "metadata": {},
   "outputs": [],
   "source": [
    "embedding = embedding_function.embed_documents(\"This is a test sentence.\")\n",
    "\n",
    "print(embedding[0])\n",
    "print(\"Dimension of Embedding: \", len(embedding[0]))"
   ]
  },
  {
   "cell_type": "code",
   "execution_count": null,
   "metadata": {},
   "outputs": [],
   "source": [
    "db = Chroma.from_documents(chunks, embedding_function)"
   ]
  },
  {
   "cell_type": "code",
   "execution_count": null,
   "metadata": {},
   "outputs": [],
   "source": [
    "print(\"Chunks in DB:\", db._collection.count())"
   ]
  },
  {
   "cell_type": "code",
   "execution_count": null,
   "metadata": {},
   "outputs": [],
   "source": [
    "query = \"Write a summary of the first page of the document.\"\n",
    "retriever = db.as_retriever()\n",
    "retriever.get_relevant_documents(query)"
   ]
  },
  {
   "cell_type": "code",
   "execution_count": null,
   "metadata": {},
   "outputs": [],
   "source": [
    "llm = HuggingFaceEndpoint(repo_id='mistralai/Mistral-7B-Instruct-v0.2', \n",
    "                     huggingfacehub_api_token=api_token,  \n",
    "                     model_kwargs={\"max_length\": 300})\n"
   ]
  },
  {
   "cell_type": "code",
   "execution_count": null,
   "metadata": {},
   "outputs": [],
   "source": [
    "qa_with_sources = RetrievalQAWithSourcesChain.from_chain_type(\n",
    "    llm = llm,\n",
    "    chain_type = \"stuff\",  \n",
    "    retriever = retriever\n",
    "    )\n",
    "\n",
    "qa_with_sources"
   ]
  },
  {
   "cell_type": "code",
   "execution_count": null,
   "metadata": {},
   "outputs": [],
   "source": [
    "query = \"Which name does the university has?\"\n",
    "qa_with_sources.invoke(query)"
   ]
  },
  {
   "cell_type": "markdown",
   "metadata": {},
   "source": [
    "## Data pipeline erstellen für die Dokumente "
   ]
  },
  {
   "cell_type": "code",
   "execution_count": null,
   "metadata": {},
   "outputs": [],
   "source": [
    "import os\n",
    "\n",
    "file_path = \"/Users/riccardo/Desktop/Repositorys_Github/LLM/Docs/docs_for_llm_pipline\"\n",
    "def check_for_file_pipeline(file_path):\n",
    "    if not os.path.exists(file_path):\n",
    "        directory = \"/Users/riccardo/Desktop/Repositorys_Github/LLM/Docs\"\n",
    "        file = \"docs_for_llm_pipline\"\n",
    "\n",
    "        path = os.path.join(directory, file)\n",
    "        os.mkdir(path)\n",
    "        print(\"Directory '%s' created\" % directory)\n",
    "    else:\n",
    "        print(\"File '%s' already exists\" % file_path)\n",
    "check_for_file_pipeline(file_path)\n",
    "\n"
   ]
  },
  {
   "cell_type": "code",
   "execution_count": null,
   "metadata": {},
   "outputs": [],
   "source": [
    "from PyPDF2 import PdfMerger\n",
    "\n",
    "file_path = \"/Users/riccardo/Desktop/Repositorys_Github/LLM/Docs/docs_for_llm_pipline\"\n",
    "file_name = \"docs_for_llm_pipline\"\n",
    "\n",
    "def merge_pdf(file_path, file_name, save_path):\n",
    "    format = [\".pdf\"]\n",
    "    pdfs = [f for f in os.listdir(file_path) if f.endswith(tuple(format))]\n",
    "\n",
    "    if not pdfs:\n",
    "        print(\"Keine PDF-Dateien im Verzeichnis gefunden.\")\n",
    "        return None\n",
    "    \n",
    "    merger = PdfMerger()\n",
    "    for pdf in pdfs:\n",
    "        with open(os.path.join(file_path, pdf), 'rb') as file:\n",
    "            merger.append(file)\n",
    "\n",
    "    merged_filename = os.path.join(save_path, file_name)\n",
    "    with open(merged_filename, 'wb') as merged_file:\n",
    "        merger.write(merged_file)\n",
    "\n",
    "    print(\"PDFs erfolgreich zusammengeführt und gespeichert unter:\", merged_filename)\n",
    "    return merged_filename\n",
    "\n",
    "merge_pdf(\"/Users/riccardo/Desktop/Repositorys_Github/LLM/Docs/\", \"merged.pdf\", \n",
    "          \"/Users/riccardo/Desktop/Repositorys_Github/LLM/Docs/docs_for_llm_pipline\")\n",
    "\n"
   ]
  },
  {
   "cell_type": "code",
   "execution_count": null,
   "metadata": {},
   "outputs": [],
   "source": []
  },
  {
   "cell_type": "code",
   "execution_count": null,
   "metadata": {},
   "outputs": [],
   "source": []
  },
  {
   "cell_type": "markdown",
   "metadata": {},
   "source": [
    "# ----------------------------------------------"
   ]
  },
  {
   "cell_type": "markdown",
   "metadata": {},
   "source": [
    "# Webbase loader"
   ]
  },
  {
   "cell_type": "code",
   "execution_count": null,
   "metadata": {},
   "outputs": [],
   "source": [
    "import requests\n",
    "from bs4 import BeautifulSoup\n",
    "from datetime import date\n",
    "\n",
    "\n",
    "class WebBaseLoader:\n",
    "    def __init__(self, url):\n",
    "        self.url = url\n",
    "\n",
    "    def load(self):\n",
    "        response = requests.get(self.url)\n",
    "        if response.status_code == 200:\n",
    "            return response.text\n",
    "        else:\n",
    "            return None\n",
    "\n",
    "    def get_last_paper_link(self):\n",
    "        html_content = self.load()\n",
    "        if html_content:\n",
    "            soup = BeautifulSoup(html_content, 'html.parser')\n",
    "            paper_links = soup.find_all('a', href=True)\n",
    "            # Extract only the links that point to PDF files\n",
    "            pdf_links = [link['href'] for link in paper_links if link['href'].endswith('.pdf')]\n",
    "            # The last paper should be at the end of the list\n",
    "            if pdf_links:\n",
    "                return pdf_links[0]  # get the last paper link\n",
    "            else:\n",
    "                return None\n",
    "        else:\n",
    "            return None\n",
    "        \n",
    "    def download_pdf(self, pdf_link, save_path): \n",
    "        response = requests.get(pdf_link)\n",
    "        if response.status_code == 200:\n",
    "            with open(save_path, 'wb') as file:\n",
    "                file.write(response.content)\n",
    "            print(\"PDF erfolgreich heruntergeladen und gespeichert unter:\", save_path)\n",
    "        else:\n",
    "            print(\"Fehler beim Herunterladen der PDF-Datei.\")\n",
    "\n",
    "# Beispiel-Nutzung:\n",
    "loader = WebBaseLoader(\"https://www.jmlr.org/\")\n",
    "last_paper_link = loader.get_last_paper_link()  # Get the last paper link\n",
    "today = date.today()\n",
    "\n",
    "save_path = f\"/Users/riccardo/Desktop/Repositorys_Github/LLM/Docs/last_paper_{today}.pdf\"\n",
    "\n",
    "if last_paper_link:\n",
    "    print(\"Letztes Paper-Link:\",' https://www.jmlr.org' + last_paper_link) \n",
    "    loader.download_pdf('https://www.jmlr.org' + last_paper_link, save_path)  # Download PDF\n",
    "else:\n",
    "    print(\"Fehler beim Laden der Webseite oder keine PDF-Papiere gefunden.\")\n"
   ]
  },
  {
   "cell_type": "code",
   "execution_count": null,
   "metadata": {},
   "outputs": [],
   "source": [
    "from PyPDF2 import PdfMerger\n",
    "import os\n",
    "\n",
    "file_path = \"/Users/riccardo/Desktop/Repositorys_Github/LLM/Docs/docs_for_llm_pipline\"\n",
    "file_name = \"docs_for_llm_pipline\"\n",
    "\n",
    "def merge_pdf(file_path, file_name, save_path):\n",
    "    format = [\".pdf\"]\n",
    "    pdfs = [f for f in os.listdir(file_path) if f.endswith(tuple(format))]\n",
    "\n",
    "    if not pdfs:\n",
    "        print(\"Keine PDF-Dateien im Verzeichnis gefunden.\")\n",
    "        return None\n",
    "    \n",
    "    merger = PdfMerger()\n",
    "    for pdf in pdfs:\n",
    "        with open(os.path.join(file_path, pdf), 'rb') as file:\n",
    "            merger.append(file)\n",
    "\n",
    "    merged_filename = os.path.join(save_path, file_name)\n",
    "    with open(merged_filename, 'wb') as merged_file:\n",
    "        merger.write(merged_file)\n",
    "\n",
    "    print(\"PDFs erfolgreich zusammengeführt und gespeichert unter:\", merged_filename)\n",
    "    return merged_filename\n",
    "\n",
    "merge_pdf(\"/Users/riccardo/Desktop/Repositorys_Github/LLM/Docs/\", \"merged.pdf\", \n",
    "          \"/Users/riccardo/Desktop/Repositorys_Github/LLM/Docs/docs_for_llm_pipline\")\n",
    "\n"
   ]
  },
  {
   "cell_type": "code",
   "execution_count": null,
   "metadata": {},
   "outputs": [],
   "source": []
  },
  {
   "cell_type": "code",
   "execution_count": null,
   "metadata": {},
   "outputs": [],
   "source": []
  },
  {
   "cell_type": "code",
   "execution_count": null,
   "metadata": {},
   "outputs": [],
   "source": []
  },
  {
   "cell_type": "code",
   "execution_count": null,
   "metadata": {},
   "outputs": [],
   "source": [
    "# Importe\n",
    "import requests\n",
    "from bs4 import BeautifulSoup\n",
    "from datetime import date\n",
    "import PyPDF2\n",
    "\n",
    "# Klasse WebBaseLoader\n",
    "class WebBaseLoader:\n",
    "    def __init__(self, url):\n",
    "        self.url = url\n",
    "\n",
    "    def load(self):\n",
    "        response = requests.get(self.url)\n",
    "        if response.status_code == 200:\n",
    "            return response.text\n",
    "        else:\n",
    "            return None\n",
    "\n",
    "    def get_last_paper_link(self):\n",
    "        html_content = self.load()\n",
    "        if html_content:\n",
    "            soup = BeautifulSoup(html_content, 'html.parser')\n",
    "            paper_links = soup.find_all('a', href=True)\n",
    "            # Extrahiere nur die Links, die auf PDF-Dateien verweisen\n",
    "            pdf_links = [link['href'] for link in paper_links if link['href'].endswith('.pdf')]\n",
    "            # Das letzte Paper sollte am Ende der Liste stehen\n",
    "            if pdf_links:\n",
    "                return pdf_links[0]  # get the last paper link\n",
    "            else:\n",
    "                return None\n",
    "        else:\n",
    "            return None\n",
    "        \n",
    "    def download_pdf(self, pdf_link, save_path): \n",
    "        response = requests.get(pdf_link)\n",
    "        if response.status_code == 200:\n",
    "            with open(save_path, 'wb') as file:\n",
    "                file.write(response.content)\n",
    "            print(\"PDF erfolgreich heruntergeladen und gespeichert unter:\", save_path)\n",
    "            # Überprüfen, ob das heruntergeladene PDF sowohl \"Abstract\" als auch \"Conclusion\" enthält\n",
    "            relevant_pages = self.extract_pages_with_keywords(save_path, [\"Abstract\"])\n",
    "            if relevant_pages:\n",
    "                print(\"Das PDF enthält sowohl Abstract als auch Conclusion.\")\n",
    "            else:\n",
    "                print(\"Das PDF enthält nicht sowohl Abstract als auch Conclusion.\")\n",
    "        else:\n",
    "            print(\"Fehler beim Herunterladen der PDF-Datei.\")\n",
    "\n",
    "    def extract_pages_with_keywords(self, pdf_file, keywords):\n",
    "        extracted_pages = []\n",
    "        with open(pdf_file, 'rb') as file:\n",
    "            reader = PyPDF2.PdfFileReader(file)\n",
    "            for page_num in range(reader.numPages):\n",
    "                page = reader.getPage(page_num)\n",
    "                text = page.extractText()\n",
    "                if all(keyword.lower() in text.lower() for keyword in keywords):\n",
    "                    extracted_pages.append(page_num + 1)  # Pages are 0-indexed, so add 1\n",
    "        return extracted_pages\n",
    "\n",
    "# Beispiel-Nutzung\n",
    "loader = WebBaseLoader(\"https://www.jmlr.org/\")\n",
    "last_paper_link = loader.get_last_paper_link()  # Get the last paper link\n",
    "today = date.today()\n",
    "\n",
    "save_path = f\"/Users/riccardo/Desktop/Repositorys_Github/LLM/Docs/last_paper_{today}.pdf\"\n",
    "\n",
    "if last_paper_link:\n",
    "    print(\"Letztes Paper-Link:\", 'https://www.jmlr.org' + last_paper_link) \n",
    "    loader.download_pdf('https://www.jmlr.org' + last_paper_link, save_path)  # Download PDF\n",
    "else:\n",
    "    print(\"Fehler beim Laden der Webseite oder keine PDF-Papiere gefunden.\")\n"
   ]
  },
  {
   "cell_type": "code",
   "execution_count": null,
   "metadata": {},
   "outputs": [],
   "source": [
    "import requests\n",
    "from bs4 import BeautifulSoup\n",
    "from datetime import date\n",
    "import PyPDF2\n",
    "from io import BytesIO\n",
    "import time\n",
    "\n",
    "class WebBaseLoader:\n",
    "    def __init__(self, url):\n",
    "        self.url = url\n",
    "\n",
    "    def load(self):\n",
    "        response = requests.get(self.url)\n",
    "        if response.status_code == 200:\n",
    "            return response.text\n",
    "        else:\n",
    "            return None\n",
    "\n",
    "    def get_last_paper_link(self):\n",
    "        html_content = self.load()\n",
    "        if html_content:\n",
    "            soup = BeautifulSoup(html_content, 'html.parser')\n",
    "            paper_links = soup.find_all('a', href=True)\n",
    "            pdf_links = [link['href'] for link in paper_links if link['href'].endswith('.pdf')]\n",
    "            if pdf_links:\n",
    "                return pdf_links[0]\n",
    "            else:\n",
    "                return None\n",
    "        else:\n",
    "            return None\n",
    "        \n",
    "    def download_pdf(self, pdf_link, save_path): \n",
    "        response = requests.get(pdf_link)\n",
    "        if response.status_code == 200:\n",
    "            # Überprüfen, ob das heruntergeladene PDF sowohl \"Abstract\" als auch \"Conclusion\" enthält\n",
    "            relevant_pages = self.extract_pages_with_keywords(response.content, [\"Abstract\", \"Conclusion\"])\n",
    "            if relevant_pages:\n",
    "                with open(save_path, 'wb') as file:\n",
    "                    writer = PyPDF2.PdfFileWriter()\n",
    "                    reader = PyPDF2.PdfFileReader(BytesIO(response.content))\n",
    "                    for page_num in relevant_pages:\n",
    "                        writer.addPage(reader.getPage(page_num))\n",
    "                    writer.write(file)\n",
    "                print(\"PDF erfolgreich heruntergeladen und gespeichert unter:\", save_path)\n",
    "            else:\n",
    "                print(\"Das PDF enthält weder Abstract noch Conclusion.\")\n",
    "        else:\n",
    "            print(\"Fehler beim Herunterladen der PDF-Datei.\")\n",
    "\n",
    "    def extract_pages_with_keywords(self, pdf_content, keywords):\n",
    "        extracted_pages = []\n",
    "        reader = PyPDF2.PdfFileReader(BytesIO(pdf_content))\n",
    "        for page_num in range(reader.numPages):\n",
    "            page = reader.getPage(page_num)\n",
    "            text = page.extractText()\n",
    "            if any(keyword.lower() in text.lower() for keyword in keywords):\n",
    "                extracted_pages.append(page_num)\n",
    "        return extracted_pages\n",
    "\n",
    "loader = WebBaseLoader(\"https://www.jmlr.org/\")\n",
    "last_paper_link = loader.get_last_paper_link()  \n",
    "today = date.today()\n",
    "current_time = time.strftime(\"%H_%M_%S\")\n",
    "save_path = f\"last_paper_{today,current_time}.pdf\"\n",
    "\n",
    "if last_paper_link:\n",
    "    print(\"Letztes Paper-Link:\", 'https://www.jmlr.org' + last_paper_link) \n",
    "    loader.download_pdf('https://www.jmlr.org' + last_paper_link, save_path)  \n",
    "else:\n",
    "    print(\"Fehler beim Laden der Webseite oder keine PDF-Papiere gefunden.\")\n"
   ]
  },
  {
   "cell_type": "markdown",
   "metadata": {},
   "source": [
    "# get only txt of artificile paper"
   ]
  },
  {
   "cell_type": "code",
   "execution_count": 10,
   "metadata": {},
   "outputs": [
    {
     "data": {
      "text/plain": [
       "'<html>\\n<head>\\n    <!-- Global site tag (gtag.js) - Google Analytics -->\\n    <script async src=\"https://www.googletagmanager.com/gtag/js?id=UA-131826476-1\"></script>\\n    <script>\\n    window.dataLayer = window.dataLayer || [];\\n    function gtag(){dataLayer.push(arguments);}\\n    gtag(\\'js\\', new Date());\\n\\n    gtag(\\'config\\', \\'UA-131826476-1\\');\\n    </script>\\n\\n    <meta http-equiv=\"Content-type\" content=\"text/html;charset=UTF-8\">\\n\\n  <!-- favicon -->\\n  <link rel=\"icon\" href=\"/img/favicon.ico\">\\n  <link rel=\"icon\" type=\"image/png\" href=\"/img/favicon-16x16.png\">\\n  <link rel=\"icon\" type=\"image/png\" href=\"/img/favicon-32x32.png\">\\n\\n<title>Journal of Machine Learning Research</title>\\n\\n\\n<link rel=\"alternate\" type=\"application/rss+xml\" href=\"/jmlr.xml\" title=\"JMLR RSS\">\\n<link rel=\"stylesheet\" type=\"text/css\" href=\"/style.css\">\\n<style type=\"text/css\">\\n. {font-family:verdana,helvetica,sans-serif}\\na {text-decoration:none;color:#3030a0}\\n\\n#fixed {\\n    position: absolute;\\n    top: 0;\\n    left: 0;\\n    width: 8em;\\n    height: 100%;\\n}\\nbody > #fixed {\\n    position: fixed;\\n}\\n#content {\\n    margin-top: 1em;\\n    margin-left: 10em;\\n    margin-right: 0.5em;\\n}\\nimg.jmlr {\\n    width: 7em;\\n}\\nimg.rss {\\n    width: 2em;\\n}\\n\\nul li {\\n    margin-bottom: 0.5em;\\n}\\n</style>\\n\\n\\n\\n\\n</head>\\n<body>\\n\\n  <div id=\"fixed\">\\n  <br>\\n  <a align=\"right\" href=\"/\" target=_top><img align=\"right\" class=\"jmlr\" src=\"/img/jmlr.jpg\" border=\"0\"></a> \\n  <p><br><br>\\n  <p align=\"right\"> <A href=\"/\"> Home Page </A> \\n\\n  <p align=\"right\"> <A href=\"/papers\"> Papers </A> \\n\\n  <p align=\"right\"> <A href=\"/author-info.html\"> Submissions </A> \\n\\n  <p align=\"right\"> <A href=\"/news.html\"> News </A> \\n\\n  <!--<p align=\"right\"> <A href=\"/scope.html\"> Scope </A>-->\\n\\n  <p align=\"right\" > <A href=\"/editorial-board.html\"> Editorial Board </A> \\n\\n    \\n\\n    <p align=\"right\" > <A href=\"/special_issues/\"> Special Issues </A> \\n\\n        \\n    \\n  <p align=\"right\"> <A href=\"/mloss\">Open Source Software</A>\\n\\n  <p align=\"right\"> <A href=\"https://proceedings.mlr.press/\"> Proceedings (PMLR)</A>\\n\\n  <p align=\"right\"> <A href=\"https://data.mlr.press/\"> Data (DMLR) </A>\\n      \\n  <p align=\"right\"> <A href=\"/tmlr\"> Transactions (TMLR) </A>\\n\\n  <p align=\"right\"> <A href=\"/search-jmlr.html\"> Search </A>\\n\\n  <p align=\"right\"> <A href=\"/stats.html\">Statistics</A>\\n\\n  <p align=\"right\"> <A href=\"/manudb\"> Login </A></p>\\n\\n   <p align=\"right\"> <A href=\"/faq.html\">Frequently Asked Questions </A></p>\\n                                     \\n  <p align=\"right\"> <A href=\"/contact.html\"> Contact Us </A></p>\\n\\n  <br><br>\\n  <p align=\"right\"> <A href=\"/jmlr.xml\"> \\n  <img src=\"/img/RSS.gif\" class=\"rss\" alt=\"RSS Feed\">\\n  </A>\\n\\n\\n\\n  </div>\\n\\n<div id=\"content\">\\n    \\n\\n<h1>Journal of Machine Learning Research</h1>\\n\\n<p>\\n  The Journal of Machine Learning Research (JMLR), <a href=\"/history.html\">established in 2000</a>, provides an\\ninternational forum for the electronic and paper publication of\\nhigh-quality scholarly articles in all areas of machine learning.  \\nAll published papers are freely available online.\\n</p>\\n\\n<p>\\nJMLR has a commitment to rigorous yet rapid reviewing. Final versions\\nare <a href=\"papers\"> published electronically</a> (ISSN 1533-7928)\\nimmediately upon receipt.  Until the end of 2004, paper volumes (ISSN\\n1532-4435) were published 8 times annually and sold to libraries and\\nindividuals by the MIT Press.\\n                                                                                      \\nPaper volumes (ISSN 1532-4435) are now published and sold by \\n<a href=\"http://www.mtome.com/\">Microtome Publishing</a>.  <p>\\n\\n<h2>News</h2>\\n<ul>\\n  <li><i>2024.02.18</i>: <a href=\"/papers/v24\">Volume 24</a> completed; <a href=\"/papers/v25\">Volume 25</a> began. </li>\\n  <li><i>2023.01.20</i>: <a href=\"/papers/v23\">Volume 23</a> completed; <a href=\"/papers/v24\">Volume 24</a> began. </li>\\n  <li><i>2022.07.20</i>: New <a href=\"/special_issues/climate_change.html\">special issue on climate change</a>.</li>\\n  <li><i>2022.02.18</i>: New blog post: <a href=\"/news/2022/retrospectives.html\">Retrospectives from 20 Years of JMLR\\n  </a>. </li>\\n  <li><i>2022.01.25</i>: <a href=\"/papers/v22\">Volume 22</a> completed; <a href=\"/papers/v23\">Volume 23</a> began. </li>\\n  <li><i>2021.12.02</i>: <a href=\"news/2021/schoelkopf-retirement.html\">Message from outgoing co-EiC Bernhard SchÃ¶lkopf</a>. </li>\\n  <li><i>2021.02.10</i>: <a href=\"/papers/v21\">Volume 21</a> completed; <a href=\"/papers/v22\">Volume 22</a> began. </li>\\n  <li><a href=\"/news.html\">More news ...</a></li>\\n</ul>\\n\\n\\n<br>\\n\\n\\n<h2>Latest papers</h2>\\n\\n\\n\\n<p>\\n<dl>\\n<dt>Trained Transformers Learn Linear Models In-Context</dt> \\n<dd><b><i>Ruiqi Zhang, Spencer Frei, Peter L. Bartlett</i></b>, 2024. \\n<br>[<a href=\\'/papers/v25/23-1042.html\\'>abs</a>][<a target=_blank href=\\'/papers/volume25/23-1042/23-1042.pdf\\'>pdf</a>][<a href=\"/papers/v25/23-1042.bib\">bib</a>]\\n\\n</dl>\\n</p>\\n\\n<p>\\n<dl>\\n<dt>Adam-family Methods for Nonsmooth Optimization with Convergence Guarantees</dt> \\n<dd><b><i>Nachuan Xiao, Xiaoyin Hu, Xin Liu, Kim-Chuan Toh</i></b>, 2024. \\n<br>[<a href=\\'/papers/v25/23-0576.html\\'>abs</a>][<a target=_blank href=\\'/papers/volume25/23-0576/23-0576.pdf\\'>pdf</a>][<a href=\"/papers/v25/23-0576.bib\">bib</a>]\\n\\n</dl>\\n</p>\\n\\n<p>\\n<dl>\\n<dt>Efficient Modality Selection in Multimodal Learning</dt> \\n<dd><b><i>Yifei He, Runxiang Cheng, Gargi Balasubramaniam, Yao-Hung Hubert Tsai, Han Zhao</i></b>, 2024. \\n<br>[<a href=\\'/papers/v25/23-0439.html\\'>abs</a>][<a target=_blank href=\\'/papers/volume25/23-0439/23-0439.pdf\\'>pdf</a>][<a href=\"/papers/v25/23-0439.bib\">bib</a>]\\n\\n</dl>\\n</p>\\n\\n<p>\\n<dl>\\n<dt>A Multilabel Classification Framework for Approximate Nearest Neighbor Search</dt> \\n<dd><b><i>Ville HyvÃ¶nen, Elias JÃ¤Ã¤saari, Teemu Roos</i></b>, 2024. \\n<br>[<a href=\\'/papers/v25/23-0286.html\\'>abs</a>][<a target=_blank href=\\'/papers/volume25/23-0286/23-0286.pdf\\'>pdf</a>][<a href=\"/papers/v25/23-0286.bib\">bib</a>]\\n\\n&nbsp;&nbsp;&nbsp;&nbsp;\\n\\n [<a href=\"https://github.com/vioshyvo/JMLR2024\">code</a>]\\n\\n\\n</dl>\\n</p>\\n\\n<p>\\n<dl>\\n<dt>Probabilistic Forecasting with Generative Networks via Scoring Rule Minimization</dt> \\n<dd><b><i>Lorenzo Pacchiardi, Rilwan A. Adewoyin, Peter Dueben, Ritabrata Dutta</i></b>, 2024. \\n<br>[<a href=\\'/papers/v25/23-0038.html\\'>abs</a>][<a target=_blank href=\\'/papers/volume25/23-0038/23-0038.pdf\\'>pdf</a>][<a href=\"/papers/v25/23-0038.bib\">bib</a>]\\n\\n&nbsp;&nbsp;&nbsp;&nbsp;\\n\\n [<a href=\"https://github.com/LoryPack/GenerativeNetworksScoringRulesProbabilisticForecasting\">code</a>]\\n\\n\\n</dl>\\n</p>\\n\\n<p>\\n<dl>\\n<dt>Multiple Descent in the Multiple Random Feature Model</dt> \\n<dd><b><i>Xuran Meng, Jianfeng Yao, Yuan Cao</i></b>, 2024. \\n<br>[<a href=\\'/papers/v25/22-1389.html\\'>abs</a>][<a target=_blank href=\\'/papers/volume25/22-1389/22-1389.pdf\\'>pdf</a>][<a href=\"/papers/v25/22-1389.bib\">bib</a>]\\n\\n</dl>\\n</p>\\n\\n<p>\\n<dl>\\n<dt>Mean-Square Analysis of Discretized ItÃ´ Diffusions for Heavy-tailed Sampling</dt> \\n<dd><b><i>Ye He, Tyler Farghly, Krishnakumar Balasubramanian, Murat A. Erdogdu</i></b>, 2024. \\n<br>[<a href=\\'/papers/v25/22-1198.html\\'>abs</a>][<a target=_blank href=\\'/papers/volume25/22-1198/22-1198.pdf\\'>pdf</a>][<a href=\"/papers/v25/22-1198.bib\">bib</a>]\\n\\n</dl>\\n</p>\\n\\n<p>\\n<dl>\\n<dt>Invariant and Equivariant Reynolds Networks</dt> \\n<dd><b><i>Akiyoshi Sannai, Makoto Kawano, Wataru Kumagai</i></b>, 2024.  <a href=\"http://www.jmlr.org/mloss/\"><i>(Machine Learning Open Source Software Paper)</i></a> \\n<br>[<a href=\\'/papers/v25/22-0891.html\\'>abs</a>][<a target=_blank href=\\'/papers/volume25/22-0891/22-0891.pdf\\'>pdf</a>][<a href=\"/papers/v25/22-0891.bib\">bib</a>]\\n\\n&nbsp;&nbsp;&nbsp;&nbsp;\\n\\n [<a href=\"https://github.com/makora9143/ReyNet\">code</a>]\\n\\n\\n</dl>\\n</p>\\n\\n<p>\\n<dl>\\n<dt>Personalized PCA: Decoupling Shared and Unique Features</dt> \\n<dd><b><i>Naichen Shi, Raed Al Kontar</i></b>, 2024. \\n<br>[<a href=\\'/papers/v25/22-0810.html\\'>abs</a>][<a target=_blank href=\\'/papers/volume25/22-0810/22-0810.pdf\\'>pdf</a>][<a href=\"/papers/v25/22-0810.bib\">bib</a>]\\n\\n&nbsp;&nbsp;&nbsp;&nbsp;\\n\\n [<a href=\"https://github.com/UMDataScienceLab/Personalized_PCA\">code</a>]\\n\\n\\n</dl>\\n</p>\\n\\n<p>\\n<dl>\\n<dt>Survival Kernets: Scalable and Interpretable Deep Kernel Survival Analysis with an Accuracy Guarantee</dt> \\n<dd><b><i>George H. Chen</i></b>, 2024. \\n<br>[<a href=\\'/papers/v25/22-0667.html\\'>abs</a>][<a target=_blank href=\\'/papers/volume25/22-0667/22-0667.pdf\\'>pdf</a>][<a href=\"/papers/v25/22-0667.bib\">bib</a>]\\n\\n&nbsp;&nbsp;&nbsp;&nbsp;\\n\\n [<a href=\"https://github.com/georgehc/survival-kernets\">code</a>]\\n\\n\\n</dl>\\n</p>\\n\\n<p>\\n<dl>\\n<dt>On the Sample Complexity and Metastability of Heavy-tailed Policy Search in Continuous Control</dt> \\n<dd><b><i>Amrit Singh Bedi, Anjaly Parayil, Junyu Zhang, Mengdi Wang, Alec Koppel</i></b>, 2024. \\n<br>[<a href=\\'/papers/v25/21-1343.html\\'>abs</a>][<a target=_blank href=\\'/papers/volume25/21-1343/21-1343.pdf\\'>pdf</a>][<a href=\"/papers/v25/21-1343.bib\">bib</a>]\\n\\n</dl>\\n</p>\\n\\n<p>\\n<dl>\\n<dt>Convergence for nonconvex ADMM, with applications to CT imaging</dt> \\n<dd><b><i>Rina Foygel Barber, Emil Y. Sidky</i></b>, 2024. \\n<br>[<a href=\\'/papers/v25/21-0831.html\\'>abs</a>][<a target=_blank href=\\'/papers/volume25/21-0831/21-0831.pdf\\'>pdf</a>][<a href=\"/papers/v25/21-0831.bib\">bib</a>]\\n\\n&nbsp;&nbsp;&nbsp;&nbsp;\\n\\n [<a href=\"https://github.com/rinafb/ADMM_CT\">code</a>]\\n\\n\\n</dl>\\n</p>\\n\\n<p>\\n<dl>\\n<dt>Distributed Gaussian Mean Estimation under Communication Constraints: Optimal Rates and Communication-Efficient Algorithms</dt> \\n<dd><b><i>T. Tony Cai, Hongji Wei</i></b>, 2024. \\n<br>[<a href=\\'/papers/v25/21-0316.html\\'>abs</a>][<a target=_blank href=\\'/papers/volume25/21-0316/21-0316.pdf\\'>pdf</a>][<a href=\"/papers/v25/21-0316.bib\">bib</a>]\\n\\n</dl>\\n</p>\\n\\n<p>\\n<dl>\\n<dt>Sparse NMF with Archetypal Regularization: Computational and Robustness Properties</dt> \\n<dd><b><i>Kayhan Behdin, Rahul Mazumder</i></b>, 2024. \\n<br>[<a href=\\'/papers/v25/21-0233.html\\'>abs</a>][<a target=_blank href=\\'/papers/volume25/21-0233/21-0233.pdf\\'>pdf</a>][<a href=\"/papers/v25/21-0233.bib\">bib</a>]\\n\\n&nbsp;&nbsp;&nbsp;&nbsp;\\n\\n [<a href=\"https://github.com/kayhanbehdin/SparseAA\">code</a>]\\n\\n\\n</dl>\\n</p>\\n\\n<p>\\n<dl>\\n<dt>Deep Network Approximation: Beyond ReLU to Diverse Activation Functions</dt> \\n<dd><b><i>Shijun Zhang, Jianfeng Lu, Hongkai Zhao</i></b>, 2024. \\n<br>[<a href=\\'/papers/v25/23-0912.html\\'>abs</a>][<a target=_blank href=\\'/papers/volume25/23-0912/23-0912.pdf\\'>pdf</a>][<a href=\"/papers/v25/23-0912.bib\">bib</a>]\\n\\n</dl>\\n</p>\\n\\n<p>\\n<dl>\\n<dt>Effect-Invariant Mechanisms for Policy Generalization</dt> \\n<dd><b><i>Sorawit Saengkyongam, Niklas Pfister, Predrag Klasnja, Susan Murphy, Jonas Peters</i></b>, 2024. \\n<br>[<a href=\\'/papers/v25/23-0802.html\\'>abs</a>][<a target=_blank href=\\'/papers/volume25/23-0802/23-0802.pdf\\'>pdf</a>][<a href=\"/papers/v25/23-0802.bib\">bib</a>]\\n\\n</dl>\\n</p>\\n\\n<p>\\n<dl>\\n<dt>Pygmtools: A Python Graph Matching Toolkit</dt> \\n<dd><b><i>Runzhong Wang, Ziao Guo, Wenzheng Pan, Jiale Ma, Yikai Zhang, Nan Yang, Qi Liu, Longxuan Wei, Hanxue Zhang, Chang Liu, Zetian Jiang, Xiaokang Yang, Junchi Yan</i></b>, 2024.  <a href=\"http://www.jmlr.org/mloss/\"><i>(Machine Learning Open Source Software Paper)</i></a> \\n<br>[<a href=\\'/papers/v25/23-0572.html\\'>abs</a>][<a target=_blank href=\\'/papers/volume25/23-0572/23-0572.pdf\\'>pdf</a>][<a href=\"/papers/v25/23-0572.bib\">bib</a>]\\n\\n&nbsp;&nbsp;&nbsp;&nbsp;\\n\\n [<a href=\"https://github.com/Thinklab-SJTU/pygmtools\">code</a>]\\n\\n\\n</dl>\\n</p>\\n\\n<p>\\n<dl>\\n<dt>Heterogeneous-Agent Reinforcement Learning</dt> \\n<dd><b><i>Yifan Zhong, Jakub Grudzien Kuba, Xidong Feng, Siyi Hu, Jiaming Ji, Yaodong Yang</i></b>, 2024. \\n<br>[<a href=\\'/papers/v25/23-0488.html\\'>abs</a>][<a target=_blank href=\\'/papers/volume25/23-0488/23-0488.pdf\\'>pdf</a>][<a href=\"/papers/v25/23-0488.bib\">bib</a>]\\n\\n&nbsp;&nbsp;&nbsp;&nbsp;\\n\\n [<a href=\"https://github.com/PKU-MARL/HARL\">code</a>]\\n\\n\\n</dl>\\n</p>\\n\\n<p>\\n<dl>\\n<dt>Sample-efficient Adversarial Imitation Learning</dt> \\n<dd><b><i>Dahuin Jung, Hyungyu Lee, Sungroh Yoon</i></b>, 2024. \\n<br>[<a href=\\'/papers/v25/23-0314.html\\'>abs</a>][<a target=_blank href=\\'/papers/volume25/23-0314/23-0314.pdf\\'>pdf</a>][<a href=\"/papers/v25/23-0314.bib\">bib</a>]\\n\\n</dl>\\n</p>\\n\\n<p>\\n<dl>\\n<dt>Stochastic Modified Flows, Mean-Field Limits and Dynamics of Stochastic Gradient Descent</dt> \\n<dd><b><i>Benjamin Gess, Sebastian Kassing, Vitalii Konarovskyi</i></b>, 2024. \\n<br>[<a href=\\'/papers/v25/23-0220.html\\'>abs</a>][<a target=_blank href=\\'/papers/volume25/23-0220/23-0220.pdf\\'>pdf</a>][<a href=\"/papers/v25/23-0220.bib\">bib</a>]\\n\\n</dl>\\n</p>\\n\\n<p>\\n<dl>\\n<dt>Rates of convergence for density estimation with generative adversarial networks</dt> \\n<dd><b><i>Nikita Puchkin, Sergey Samsonov, Denis Belomestny, Eric Moulines, Alexey Naumov</i></b>, 2024. \\n<br>[<a href=\\'/papers/v25/23-0062.html\\'>abs</a>][<a target=_blank href=\\'/papers/volume25/23-0062/23-0062.pdf\\'>pdf</a>][<a href=\"/papers/v25/23-0062.bib\">bib</a>]\\n\\n</dl>\\n</p>\\n\\n<p>\\n<dl>\\n<dt>Additive smoothing error in backward variational inference for general state-space models</dt> \\n<dd><b><i>Mathis Chagneux, Elisabeth Gassiat, Pierre Gloaguen, Sylvain Le Corff</i></b>, 2024. \\n<br>[<a href=\\'/papers/v25/22-1392.html\\'>abs</a>][<a target=_blank href=\\'/papers/volume25/22-1392/22-1392.pdf\\'>pdf</a>][<a href=\"/papers/v25/22-1392.bib\">bib</a>]\\n\\n</dl>\\n</p>\\n\\n<p>\\n<dl>\\n<dt>Optimal Bump Functions for Shallow ReLU networks: Weight Decay, Depth Separation, Curse of Dimensionality</dt> \\n<dd><b><i>Stephan Wojtowytsch</i></b>, 2024. \\n<br>[<a href=\\'/papers/v25/22-1296.html\\'>abs</a>][<a target=_blank href=\\'/papers/volume25/22-1296/22-1296.pdf\\'>pdf</a>][<a href=\"/papers/v25/22-1296.bib\">bib</a>]\\n\\n</dl>\\n</p>\\n\\n<p>\\n<dl>\\n<dt>Numerically Stable Sparse Gaussian Processes via Minimum Separation using Cover Trees</dt> \\n<dd><b><i>Alexander Terenin, David R. Burt, Artem Artemev, Seth Flaxman, Mark van der Wilk, Carl Edward Rasmussen, Hong Ge</i></b>, 2024. \\n<br>[<a href=\\'/papers/v25/22-1170.html\\'>abs</a>][<a target=_blank href=\\'/papers/volume25/22-1170/22-1170.pdf\\'>pdf</a>][<a href=\"/papers/v25/22-1170.bib\">bib</a>]\\n\\n&nbsp;&nbsp;&nbsp;&nbsp;\\n\\n [<a href=\"https://github.com/awav/conjugate-gradient-sparse-gp\">code</a>]\\n\\n\\n</dl>\\n</p>\\n\\n<p>\\n<dl>\\n<dt>On Tail Decay Rate Estimation of Loss Function Distributions</dt> \\n<dd><b><i>Etrit Haxholli, Marco Lorenzi</i></b>, 2024. \\n<br>[<a href=\\'/papers/v25/22-0846.html\\'>abs</a>][<a target=_blank href=\\'/papers/volume25/22-0846/22-0846.pdf\\'>pdf</a>][<a href=\"/papers/v25/22-0846.bib\">bib</a>]\\n\\n&nbsp;&nbsp;&nbsp;&nbsp;\\n\\n [<a href=\"https://github.com/ehaxholli/CTE\">code</a>]\\n\\n\\n</dl>\\n</p>\\n\\n<p>\\n<dl>\\n<dt>Deep Nonparametric Estimation of Operators between Infinite Dimensional Spaces</dt> \\n<dd><b><i>Hao Liu, Haizhao Yang, Minshuo Chen, Tuo Zhao, Wenjing Liao</i></b>, 2024. \\n<br>[<a href=\\'/papers/v25/22-0719.html\\'>abs</a>][<a target=_blank href=\\'/papers/volume25/22-0719/22-0719.pdf\\'>pdf</a>][<a href=\"/papers/v25/22-0719.bib\">bib</a>]\\n\\n</dl>\\n</p>\\n\\n<p>\\n<dl>\\n<dt>Post-Regularization Confidence Bands for Ordinary Differential Equations</dt> \\n<dd><b><i>Xiaowu Dai, Lexin Li</i></b>, 2024. \\n<br>[<a href=\\'/papers/v25/22-0487.html\\'>abs</a>][<a target=_blank href=\\'/papers/volume25/22-0487/22-0487.pdf\\'>pdf</a>][<a href=\"/papers/v25/22-0487.bib\">bib</a>]\\n\\n</dl>\\n</p>\\n\\n<p>\\n<dl>\\n<dt>On the Generalization of Stochastic Gradient Descent with Momentum</dt> \\n<dd><b><i>Ali Ramezani-Kebrya, Kimon Antonakopoulos, Volkan Cevher, Ashish Khisti, Ben Liang</i></b>, 2024. \\n<br>[<a href=\\'/papers/v25/22-0068.html\\'>abs</a>][<a target=_blank href=\\'/papers/volume25/22-0068/22-0068.pdf\\'>pdf</a>][<a href=\"/papers/v25/22-0068.bib\">bib</a>]\\n\\n</dl>\\n</p>\\n\\n<p>\\n<dl>\\n<dt>Pursuit of the Cluster Structure of Network Lasso: Recovery Condition and Non-convex Extension</dt> \\n<dd><b><i>Shotaro Yagishita, Jun-ya Gotoh</i></b>, 2024. \\n<br>[<a href=\\'/papers/v25/21-1190.html\\'>abs</a>][<a target=_blank href=\\'/papers/volume25/21-1190/21-1190.pdf\\'>pdf</a>][<a href=\"/papers/v25/21-1190.bib\">bib</a>]\\n\\n</dl>\\n</p>\\n\\n<p>\\n<dl>\\n<dt>Iterate Averaging in the Quest for Best Test Error</dt> \\n<dd><b><i>Diego Granziol, Nicholas P. Baskerville, Xingchen Wan, Samuel Albanie, Stephen Roberts</i></b>, 2024. \\n<br>[<a href=\\'/papers/v25/21-1125.html\\'>abs</a>][<a target=_blank href=\\'/papers/volume25/21-1125/21-1125.pdf\\'>pdf</a>][<a href=\"/papers/v25/21-1125.bib\">bib</a>]\\n\\n&nbsp;&nbsp;&nbsp;&nbsp;\\n\\n [<a href=\"https://github.com/diegogranziol/Gadam\">code</a>]\\n\\n\\n</dl>\\n</p>\\n\\n<p>\\n<dl>\\n<dt>Nonparametric Inference under B-bits Quantization</dt> \\n<dd><b><i>Kexuan Li, Ruiqi Liu, Ganggang Xu, Zuofeng Shang</i></b>, 2024. \\n<br>[<a href=\\'/papers/v25/20-075.html\\'>abs</a>][<a target=_blank href=\\'/papers/volume25/20-075/20-075.pdf\\'>pdf</a>][<a href=\"/papers/v25/20-075.bib\">bib</a>]\\n\\n</dl>\\n</p>\\n\\n<p>\\n<dl>\\n<dt>Black Box Variational Inference with a Deterministic Objective: Faster, More Accurate, and Even More Black Box</dt> \\n<dd><b><i>Ryan Giordano, Martin Ingram, Tamara Broderick</i></b>, 2024. \\n<br>[<a href=\\'/papers/v25/23-1015.html\\'>abs</a>][<a target=_blank href=\\'/papers/volume25/23-1015/23-1015.pdf\\'>pdf</a>][<a href=\"/papers/v25/23-1015.bib\">bib</a>]\\n\\n&nbsp;&nbsp;&nbsp;&nbsp;\\n\\n [<a href=\"https://github.com/rgiordan/DADVIPaper\">code</a>]\\n\\n\\n</dl>\\n</p>\\n\\n<p>\\n<dl>\\n<dt>On Sufficient Graphical Models</dt> \\n<dd><b><i>Bing Li, Kyongwon Kim</i></b>, 2024. \\n<br>[<a href=\\'/papers/v25/23-0893.html\\'>abs</a>][<a target=_blank href=\\'/papers/volume25/23-0893/23-0893.pdf\\'>pdf</a>][<a href=\"/papers/v25/23-0893.bib\">bib</a>]\\n\\n</dl>\\n</p>\\n\\n<p>\\n<dl>\\n<dt>Localized Debiased Machine Learning: Efficient Inference on Quantile Treatment Effects and Beyond</dt> \\n<dd><b><i>Nathan Kallus, Xiaojie Mao, Masatoshi Uehara</i></b>, 2024. \\n<br>[<a href=\\'/papers/v25/23-0661.html\\'>abs</a>][<a target=_blank href=\\'/papers/volume25/23-0661/23-0661.pdf\\'>pdf</a>][<a href=\"/papers/v25/23-0661.bib\">bib</a>]\\n\\n&nbsp;&nbsp;&nbsp;&nbsp;\\n\\n [<a href=\"https://github.com/CausalML/LocalizedDebiasedMachineLearning\">code</a>]\\n\\n\\n</dl>\\n</p>\\n\\n<p>\\n<dl>\\n<dt>On the Effect of Initialization: The Scaling Path of 2-Layer Neural Networks</dt> \\n<dd><b><i>Sebastian Neumayer, LÃ©naÃ¯c Chizat, Michael Unser</i></b>, 2024. \\n<br>[<a href=\\'/papers/v25/23-0549.html\\'>abs</a>][<a target=_blank href=\\'/papers/volume25/23-0549/23-0549.pdf\\'>pdf</a>][<a href=\"/papers/v25/23-0549.bib\">bib</a>]\\n\\n</dl>\\n</p>\\n\\n<p>\\n<dl>\\n<dt>Improving physics-informed neural networks with meta-learned optimization</dt> \\n<dd><b><i>Alex Bihlo</i></b>, 2024. \\n<br>[<a href=\\'/papers/v25/23-0356.html\\'>abs</a>][<a target=_blank href=\\'/papers/volume25/23-0356/23-0356.pdf\\'>pdf</a>][<a href=\"/papers/v25/23-0356.bib\">bib</a>]\\n\\n</dl>\\n</p>\\n\\n<p>\\n<dl>\\n<dt>A Comparison of Continuous-Time Approximations to Stochastic Gradient Descent</dt> \\n<dd><b><i>Stefan Ankirchner, Stefan Perko</i></b>, 2024. \\n<br>[<a href=\\'/papers/v25/23-0237.html\\'>abs</a>][<a target=_blank href=\\'/papers/volume25/23-0237/23-0237.pdf\\'>pdf</a>][<a href=\"/papers/v25/23-0237.bib\">bib</a>]\\n\\n</dl>\\n</p>\\n\\n<p>\\n<dl>\\n<dt>Critically Assessing the State of the Art in Neural Network Verification</dt> \\n<dd><b><i>Matthias KÃ¶nig, Annelot W. Bosman, Holger H. Hoos, Jan N. van Rijn</i></b>, 2024. \\n<br>[<a href=\\'/papers/v25/23-0119.html\\'>abs</a>][<a target=_blank href=\\'/papers/volume25/23-0119/23-0119.pdf\\'>pdf</a>][<a href=\"/papers/v25/23-0119.bib\">bib</a>]\\n\\n</dl>\\n</p>\\n\\n<p>\\n<dl>\\n<dt>Estimating the Minimizer and the Minimum Value of a Regression Function under Passive Design</dt> \\n<dd><b><i>Arya Akhavan, Davit Gogolashvili, Alexandre B. Tsybakov</i></b>, 2024. \\n<br>[<a href=\\'/papers/v25/22-1396.html\\'>abs</a>][<a target=_blank href=\\'/papers/volume25/22-1396/22-1396.pdf\\'>pdf</a>][<a href=\"/papers/v25/22-1396.bib\">bib</a>]\\n\\n</dl>\\n</p>\\n\\n<p>\\n<dl>\\n<dt>Modeling Random Networks with Heterogeneous Reciprocity</dt> \\n<dd><b><i>Daniel Cirkovic, Tiandong Wang</i></b>, 2024. \\n<br>[<a href=\\'/papers/v25/22-1317.html\\'>abs</a>][<a target=_blank href=\\'/papers/volume25/22-1317/22-1317.pdf\\'>pdf</a>][<a href=\"/papers/v25/22-1317.bib\">bib</a>]\\n\\n</dl>\\n</p>\\n\\n<p>\\n<dl>\\n<dt>Exploration, Exploitation, and Engagement in Multi-Armed Bandits with Abandonment</dt> \\n<dd><b><i>Zixian Yang, Xin Liu, Lei Ying</i></b>, 2024. \\n<br>[<a href=\\'/papers/v25/22-1251.html\\'>abs</a>][<a target=_blank href=\\'/papers/volume25/22-1251/22-1251.pdf\\'>pdf</a>][<a href=\"/papers/v25/22-1251.bib\">bib</a>]\\n\\n</dl>\\n</p>\\n\\n<p>\\n<dl>\\n<dt>On Efficient and Scalable Computation of the Nonparametric Maximum Likelihood Estimator in Mixture Models</dt> \\n<dd><b><i>Yangjing Zhang, Ying Cui, Bodhisattva Sen, Kim-Chuan Toh</i></b>, 2024. \\n<br>[<a href=\\'/papers/v25/22-1120.html\\'>abs</a>][<a target=_blank href=\\'/papers/volume25/22-1120/22-1120.pdf\\'>pdf</a>][<a href=\"/papers/v25/22-1120.bib\">bib</a>]\\n\\n&nbsp;&nbsp;&nbsp;&nbsp;\\n\\n [<a href=\"https://github.com/YangjingZhang/Dual-ALM-for-NPMLE\">code</a>]\\n\\n\\n</dl>\\n</p>\\n\\n<p>\\n<dl>\\n<dt>Decorrelated Variable Importance</dt> \\n<dd><b><i>Isabella Verdinelli, Larry Wasserman</i></b>, 2024. \\n<br>[<a href=\\'/papers/v25/22-0801.html\\'>abs</a>][<a target=_blank href=\\'/papers/volume25/22-0801/22-0801.pdf\\'>pdf</a>][<a href=\"/papers/v25/22-0801.bib\">bib</a>]\\n\\n</dl>\\n</p>\\n\\n<p>\\n<dl>\\n<dt>Model-Free Representation Learning and Exploration in Low-Rank MDPs</dt> \\n<dd><b><i>Aditya Modi, Jinglin Chen, Akshay Krishnamurthy, Nan Jiang, Alekh Agarwal</i></b>, 2024. \\n<br>[<a href=\\'/papers/v25/22-0687.html\\'>abs</a>][<a target=_blank href=\\'/papers/volume25/22-0687/22-0687.pdf\\'>pdf</a>][<a href=\"/papers/v25/22-0687.bib\">bib</a>]\\n\\n</dl>\\n</p>\\n\\n<p>\\n<dl>\\n<dt>Seeded Graph Matching for the Correlated Gaussian Wigner Model via the Projected Power Method</dt> \\n<dd><b><i>Ernesto Araya, Guillaume Braun, Hemant Tyagi</i></b>, 2024. \\n<br>[<a href=\\'/papers/v25/22-0402.html\\'>abs</a>][<a target=_blank href=\\'/papers/volume25/22-0402/22-0402.pdf\\'>pdf</a>][<a href=\"/papers/v25/22-0402.bib\">bib</a>]\\n\\n&nbsp;&nbsp;&nbsp;&nbsp;\\n\\n [<a href=\"https://github.com/ErnestoArayaV/Graph-matching-PPMGM\">code</a>]\\n\\n\\n</dl>\\n</p>\\n\\n<p>\\n<dl>\\n<dt>Fast Policy Extragradient Methods for Competitive Games with Entropy Regularization</dt> \\n<dd><b><i>Shicong Cen, Yuting Wei, Yuejie Chi</i></b>, 2024. \\n<br>[<a href=\\'/papers/v25/21-1205.html\\'>abs</a>][<a target=_blank href=\\'/papers/volume25/21-1205/21-1205.pdf\\'>pdf</a>][<a href=\"/papers/v25/21-1205.bib\">bib</a>]\\n\\n</dl>\\n</p>\\n\\n<p>\\n<dl>\\n<dt>Power of knockoff: The impact of ranking algorithm, augmented design, and symmetric statistic</dt> \\n<dd><b><i>Zheng Tracy Ke, Jun S. Liu, Yucong Ma</i></b>, 2024. \\n<br>[<a href=\\'/papers/v25/21-1137.html\\'>abs</a>][<a target=_blank href=\\'/papers/volume25/21-1137/21-1137.pdf\\'>pdf</a>][<a href=\"/papers/v25/21-1137.bib\">bib</a>]\\n\\n</dl>\\n</p>\\n\\n<p>\\n<dl>\\n<dt>Lower Complexity Bounds of Finite-Sum Optimization Problems: The Results and Construction</dt> \\n<dd><b><i>Yuze Han, Guangzeng Xie, Zhihua Zhang</i></b>, 2024. \\n<br>[<a href=\\'/papers/v25/21-0264.html\\'>abs</a>][<a target=_blank href=\\'/papers/volume25/21-0264/21-0264.pdf\\'>pdf</a>][<a href=\"/papers/v25/21-0264.bib\">bib</a>]\\n\\n</dl>\\n</p>\\n\\n<p>\\n<dl>\\n<dt>On Truthing Issues in Supervised Classification</dt> \\n<dd><b><i>Jonathan K. Su</i></b>, 2024. \\n<br>[<a href=\\'/papers/v25/19-301.html\\'>abs</a>][<a target=_blank href=\\'/papers/volume25/19-301/19-301.pdf\\'>pdf</a>][<a href=\"/papers/v25/19-301.bib\">bib</a>]\\n\\n</dl>\\n</p>\\n\\n<p><a href=\"/papers/\">Full list</a>\\n</p>\\n\\n                      \\n    <table width=\"100%\"> <tr>\\n    <td\\n    align=\"right\"><font size=\"-1\">&copy <a target=\"_top\"\\n    href=\"https://www.jmlr.org\">JMLR</a> 2024. </td> </tr> </table>\\n    \\n\\n</div>\\n<!-- for mastodon verification -->\\n<a style=\"font-size: 0\" rel=\"me\" href=\"https://sigmoid.social/@jmlr\">Mastodon</a>\\n</body>\\n</html>'"
      ]
     },
     "execution_count": 10,
     "metadata": {},
     "output_type": "execute_result"
    }
   ],
   "source": [
    "response = requests.get('https://www.jmlr.org/')\n",
    "if response.status_code == 200:\n",
    "    text = response.text\n",
    "\n",
    "text\n",
    "\n",
    "\n",
    "\n",
    "# html_content = self.load()\n",
    "#         if html_content:\n",
    "#             soup = BeautifulSoup(html_content, 'html.parser')\n",
    "#             paper_links = soup.find_all('a', href=True)\n",
    "#             pdf_links = [link['href'] for link in paper_links if link['href'].endswith('.pdf')]\n",
    "#             if pdf_links:\n",
    "#                 return pdf_links[0]"
   ]
  }
 ],
 "metadata": {
  "kernelspec": {
   "display_name": "llm_train",
   "language": "python",
   "name": "python3"
  },
  "language_info": {
   "codemirror_mode": {
    "name": "ipython",
    "version": 3
   },
   "file_extension": ".py",
   "mimetype": "text/x-python",
   "name": "python",
   "nbconvert_exporter": "python",
   "pygments_lexer": "ipython3",
   "version": "3.11.5"
  }
 },
 "nbformat": 4,
 "nbformat_minor": 2
}
