{
 "cells": [
  {
   "cell_type": "code",
   "execution_count": null,
   "metadata": {},
   "outputs": [],
   "source": [
    "from langchain_community.vectorstores import Chroma\n",
    "from langchain.embeddings import SentenceTransformerEmbeddings\n",
    "from langchain.text_splitter import CharacterTextSplitter\n",
    "from langchain.text_splitter import RecursiveCharacterTextSplitter\n",
    "from langchain_community.document_loaders import UnstructuredHTMLLoader \n",
    "from langchain_openai import OpenAIEmbeddings\n",
    "from langchain.chains import RetrievalQA\n",
    "from langchain.chains import RetrievalQAWithSourcesChain\n",
    "from langchain.embeddings import HuggingFaceEmbeddings\n",
    "from langchain_community.document_loaders import PyPDFLoader\n",
    "from langchain_community.llms import HuggingFaceHub\n",
    "from langchain.chains import LLMChain, ConversationChain\n",
    "from langchain.prompts import PromptTemplate\n",
    "from langchain.memory import ChatMessageHistory, ConversationBufferMemory,ConversationSummaryMemory\n",
    "\n",
    "from langchain_community.llms import HuggingFaceEndpoint\n",
    "\n",
    "\n",
    "\n"
   ]
  },
  {
   "cell_type": "code",
   "execution_count": null,
   "metadata": {},
   "outputs": [],
   "source": [
    "import json\n",
    "\n",
    "# Öffne die JSON-Datei und lade den Inhalt\n",
    "with open('/Users/riccardo/Desktop/Repositorys_Github/LLM/Docs/api_token.json', 'r') as api_file:\n",
    "    api_token_file = json.load(api_file)\n",
    "\n",
    "# Extrahiere die Variable aus den Daten\n",
    "api_token = api_token_file['Hugging_face_token']"
   ]
  },
  {
   "cell_type": "code",
   "execution_count": null,
   "metadata": {},
   "outputs": [],
   "source": [
    "text_splitter = RecursiveCharacterTextSplitter(\n",
    "    chunk_size=1000,\n",
    "    chunk_overlap=50, \n",
    "    length_function = len)\n",
    "text_splitter"
   ]
  },
  {
   "cell_type": "code",
   "execution_count": null,
   "metadata": {},
   "outputs": [],
   "source": [
    "filepath = '/Users/riccardo/Desktop/Repositorys_Github/LLM/Docs/docs_for_llm_pipline/merged.pdf'\n",
    "loader = PyPDFLoader(filepath)\n",
    "chunks = loader.load_and_split(text_splitter=text_splitter)"
   ]
  },
  {
   "cell_type": "code",
   "execution_count": null,
   "metadata": {},
   "outputs": [],
   "source": [
    "for chunk in chunks:\n",
    "    print(\"Page content: \\n\", chunk.page_content),\n",
    "    print(\"Page_metadata: \\n\", chunk.metadata),\n",
    "    print(\"----------------------------\")"
   ]
  },
  {
   "cell_type": "code",
   "execution_count": null,
   "metadata": {},
   "outputs": [],
   "source": [
    "embedding_function = SentenceTransformerEmbeddings(model_name=\"BAAI/bge-large-zh-v1.5\")"
   ]
  },
  {
   "cell_type": "code",
   "execution_count": null,
   "metadata": {},
   "outputs": [],
   "source": [
    "embedding = embedding_function.embed_documents(\"This is a test sentence.\")\n",
    "\n",
    "print(embedding[0])\n",
    "print(\"Dimension of Embedding: \", len(embedding[0]))"
   ]
  },
  {
   "cell_type": "code",
   "execution_count": null,
   "metadata": {},
   "outputs": [],
   "source": [
    "db = Chroma.from_documents(chunks, embedding_function)"
   ]
  },
  {
   "cell_type": "code",
   "execution_count": null,
   "metadata": {},
   "outputs": [],
   "source": [
    "print(\"Chunks in DB:\", db._collection.count())"
   ]
  },
  {
   "cell_type": "code",
   "execution_count": null,
   "metadata": {},
   "outputs": [],
   "source": [
    "query = \"Write a summary of the first page of the document.\"\n",
    "retriever = db.as_retriever()\n",
    "retriever.get_relevant_documents(query)"
   ]
  },
  {
   "cell_type": "code",
   "execution_count": null,
   "metadata": {},
   "outputs": [],
   "source": [
    "llm = HuggingFaceEndpoint(repo_id='mistralai/Mistral-7B-Instruct-v0.2', \n",
    "                     huggingfacehub_api_token=api_token,  \n",
    "                     model_kwargs={\"max_length\": 300})\n"
   ]
  },
  {
   "cell_type": "code",
   "execution_count": null,
   "metadata": {},
   "outputs": [],
   "source": [
    "qa_with_sources = RetrievalQAWithSourcesChain.from_chain_type(\n",
    "    llm = llm,\n",
    "    chain_type = \"stuff\",  \n",
    "    retriever = retriever\n",
    "    )\n",
    "\n",
    "qa_with_sources"
   ]
  },
  {
   "cell_type": "code",
   "execution_count": null,
   "metadata": {},
   "outputs": [],
   "source": [
    "query = \"Which name does the university has?\"\n",
    "qa_with_sources.invoke(query)"
   ]
  },
  {
   "cell_type": "markdown",
   "metadata": {},
   "source": [
    "## Data pipeline erstellen für die Dokumente "
   ]
  },
  {
   "cell_type": "code",
   "execution_count": null,
   "metadata": {},
   "outputs": [],
   "source": [
    "import os\n",
    "\n",
    "file_path = \"/Users/riccardo/Desktop/Repositorys_Github/LLM/Docs/docs_for_llm_pipline\"\n",
    "def check_for_file_pipeline(file_path):\n",
    "    if not os.path.exists(file_path):\n",
    "        directory = \"/Users/riccardo/Desktop/Repositorys_Github/LLM/Docs\"\n",
    "        file = \"docs_for_llm_pipline\"\n",
    "\n",
    "        path = os.path.join(directory, file)\n",
    "        os.mkdir(path)\n",
    "        print(\"Directory '%s' created\" % directory)\n",
    "    else:\n",
    "        print(\"File '%s' already exists\" % file_path)\n",
    "check_for_file_pipeline(file_path)\n",
    "\n"
   ]
  },
  {
   "cell_type": "code",
   "execution_count": null,
   "metadata": {},
   "outputs": [],
   "source": [
    "from PyPDF2 import PdfMerger\n",
    "\n",
    "file_path = \"/Users/riccardo/Desktop/Repositorys_Github/LLM/Docs/docs_for_llm_pipline\"\n",
    "file_name = \"docs_for_llm_pipline\"\n",
    "\n",
    "def merge_pdf(file_path, file_name, save_path):\n",
    "    format = [\".pdf\"]\n",
    "    pdfs = [f for f in os.listdir(file_path) if f.endswith(tuple(format))]\n",
    "\n",
    "    if not pdfs:\n",
    "        print(\"Keine PDF-Dateien im Verzeichnis gefunden.\")\n",
    "        return None\n",
    "    \n",
    "    merger = PdfMerger()\n",
    "    for pdf in pdfs:\n",
    "        with open(os.path.join(file_path, pdf), 'rb') as file:\n",
    "            merger.append(file)\n",
    "\n",
    "    merged_filename = os.path.join(save_path, file_name)\n",
    "    with open(merged_filename, 'wb') as merged_file:\n",
    "        merger.write(merged_file)\n",
    "\n",
    "    print(\"PDFs erfolgreich zusammengeführt und gespeichert unter:\", merged_filename)\n",
    "    return merged_filename\n",
    "\n",
    "merge_pdf(\"/Users/riccardo/Desktop/Repositorys_Github/LLM/Docs/\", \"merged.pdf\", \n",
    "          \"/Users/riccardo/Desktop/Repositorys_Github/LLM/Docs/docs_for_llm_pipline\")\n",
    "\n"
   ]
  },
  {
   "cell_type": "code",
   "execution_count": null,
   "metadata": {},
   "outputs": [],
   "source": []
  },
  {
   "cell_type": "code",
   "execution_count": null,
   "metadata": {},
   "outputs": [],
   "source": []
  },
  {
   "cell_type": "markdown",
   "metadata": {},
   "source": [
    "# ----------------------------------------------"
   ]
  },
  {
   "cell_type": "markdown",
   "metadata": {},
   "source": [
    "# Webbase loader"
   ]
  },
  {
   "cell_type": "code",
   "execution_count": null,
   "metadata": {},
   "outputs": [],
   "source": [
    "import requests\n",
    "from bs4 import BeautifulSoup\n",
    "from datetime import date\n",
    "\n",
    "\n",
    "class WebBaseLoader:\n",
    "    def __init__(self, url):\n",
    "        self.url = url\n",
    "\n",
    "    def load(self):\n",
    "        response = requests.get(self.url)\n",
    "        if response.status_code == 200:\n",
    "            return response.text\n",
    "        else:\n",
    "            return None\n",
    "\n",
    "    def get_last_paper_link(self):\n",
    "        html_content = self.load()\n",
    "        if html_content:\n",
    "            soup = BeautifulSoup(html_content, 'html.parser')\n",
    "            paper_links = soup.find_all('a', href=True)\n",
    "            # Extract only the links that point to PDF files\n",
    "            pdf_links = [link['href'] for link in paper_links if link['href'].endswith('.pdf')]\n",
    "            # The last paper should be at the end of the list\n",
    "            if pdf_links:\n",
    "                return pdf_links[0]  # get the last paper link\n",
    "            else:\n",
    "                return None\n",
    "        else:\n",
    "            return None\n",
    "        \n",
    "    def download_pdf(self, pdf_link, save_path): \n",
    "        response = requests.get(pdf_link)\n",
    "        if response.status_code == 200:\n",
    "            with open(save_path, 'wb') as file:\n",
    "                file.write(response.content)\n",
    "            print(\"PDF erfolgreich heruntergeladen und gespeichert unter:\", save_path)\n",
    "        else:\n",
    "            print(\"Fehler beim Herunterladen der PDF-Datei.\")\n",
    "\n",
    "# Beispiel-Nutzung:\n",
    "loader = WebBaseLoader(\"https://www.jmlr.org/\")\n",
    "last_paper_link = loader.get_last_paper_link()  # Get the last paper link\n",
    "today = date.today()\n",
    "\n",
    "save_path = f\"/Users/riccardo/Desktop/Repositorys_Github/LLM/Docs/last_paper_{today}.pdf\"\n",
    "\n",
    "if last_paper_link:\n",
    "    print(\"Letztes Paper-Link:\",' https://www.jmlr.org' + last_paper_link) \n",
    "    loader.download_pdf('https://www.jmlr.org' + last_paper_link, save_path)  # Download PDF\n",
    "else:\n",
    "    print(\"Fehler beim Laden der Webseite oder keine PDF-Papiere gefunden.\")\n"
   ]
  },
  {
   "cell_type": "code",
   "execution_count": null,
   "metadata": {},
   "outputs": [],
   "source": [
    "from PyPDF2 import PdfMerger\n",
    "import os\n",
    "\n",
    "file_path = \"/Users/riccardo/Desktop/Repositorys_Github/LLM/Docs/docs_for_llm_pipline\"\n",
    "file_name = \"docs_for_llm_pipline\"\n",
    "\n",
    "def merge_pdf(file_path, file_name, save_path):\n",
    "    format = [\".pdf\"]\n",
    "    pdfs = [f for f in os.listdir(file_path) if f.endswith(tuple(format))]\n",
    "\n",
    "    if not pdfs:\n",
    "        print(\"Keine PDF-Dateien im Verzeichnis gefunden.\")\n",
    "        return None\n",
    "    \n",
    "    merger = PdfMerger()\n",
    "    for pdf in pdfs:\n",
    "        with open(os.path.join(file_path, pdf), 'rb') as file:\n",
    "            merger.append(file)\n",
    "\n",
    "    merged_filename = os.path.join(save_path, file_name)\n",
    "    with open(merged_filename, 'wb') as merged_file:\n",
    "        merger.write(merged_file)\n",
    "\n",
    "    print(\"PDFs erfolgreich zusammengeführt und gespeichert unter:\", merged_filename)\n",
    "    return merged_filename\n",
    "\n",
    "merge_pdf(\"/Users/riccardo/Desktop/Repositorys_Github/LLM/Docs/\", \"merged.pdf\", \n",
    "          \"/Users/riccardo/Desktop/Repositorys_Github/LLM/Docs/docs_for_llm_pipline\")\n",
    "\n"
   ]
  },
  {
   "cell_type": "code",
   "execution_count": null,
   "metadata": {},
   "outputs": [],
   "source": []
  },
  {
   "cell_type": "code",
   "execution_count": null,
   "metadata": {},
   "outputs": [],
   "source": []
  },
  {
   "cell_type": "code",
   "execution_count": null,
   "metadata": {},
   "outputs": [],
   "source": []
  },
  {
   "cell_type": "code",
   "execution_count": null,
   "metadata": {},
   "outputs": [],
   "source": [
    "# Importe\n",
    "import requests\n",
    "from bs4 import BeautifulSoup\n",
    "from datetime import date\n",
    "import PyPDF2\n",
    "\n",
    "# Klasse WebBaseLoader\n",
    "class WebBaseLoader:\n",
    "    def __init__(self, url):\n",
    "        self.url = url\n",
    "\n",
    "    def load(self):\n",
    "        response = requests.get(self.url)\n",
    "        if response.status_code == 200:\n",
    "            return response.text\n",
    "        else:\n",
    "            return None\n",
    "\n",
    "    def get_last_paper_link(self):\n",
    "        html_content = self.load()\n",
    "        if html_content:\n",
    "            soup = BeautifulSoup(html_content, 'html.parser')\n",
    "            paper_links = soup.find_all('a', href=True)\n",
    "            # Extrahiere nur die Links, die auf PDF-Dateien verweisen\n",
    "            pdf_links = [link['href'] for link in paper_links if link['href'].endswith('.pdf')]\n",
    "            # Das letzte Paper sollte am Ende der Liste stehen\n",
    "            if pdf_links:\n",
    "                return pdf_links[0]  # get the last paper link\n",
    "            else:\n",
    "                return None\n",
    "        else:\n",
    "            return None\n",
    "        \n",
    "    def download_pdf(self, pdf_link, save_path): \n",
    "        response = requests.get(pdf_link)\n",
    "        if response.status_code == 200:\n",
    "            with open(save_path, 'wb') as file:\n",
    "                file.write(response.content)\n",
    "            print(\"PDF erfolgreich heruntergeladen und gespeichert unter:\", save_path)\n",
    "            # Überprüfen, ob das heruntergeladene PDF sowohl \"Abstract\" als auch \"Conclusion\" enthält\n",
    "            relevant_pages = self.extract_pages_with_keywords(save_path, [\"Abstract\"])\n",
    "            if relevant_pages:\n",
    "                print(\"Das PDF enthält sowohl Abstract als auch Conclusion.\")\n",
    "            else:\n",
    "                print(\"Das PDF enthält nicht sowohl Abstract als auch Conclusion.\")\n",
    "        else:\n",
    "            print(\"Fehler beim Herunterladen der PDF-Datei.\")\n",
    "\n",
    "    def extract_pages_with_keywords(self, pdf_file, keywords):\n",
    "        extracted_pages = []\n",
    "        with open(pdf_file, 'rb') as file:\n",
    "            reader = PyPDF2.PdfFileReader(file)\n",
    "            for page_num in range(reader.numPages):\n",
    "                page = reader.getPage(page_num)\n",
    "                text = page.extractText()\n",
    "                if all(keyword.lower() in text.lower() for keyword in keywords):\n",
    "                    extracted_pages.append(page_num + 1)  # Pages are 0-indexed, so add 1\n",
    "        return extracted_pages\n",
    "\n",
    "# Beispiel-Nutzung\n",
    "loader = WebBaseLoader(\"https://www.jmlr.org/\")\n",
    "last_paper_link = loader.get_last_paper_link()  # Get the last paper link\n",
    "today = date.today()\n",
    "\n",
    "save_path = f\"/Users/riccardo/Desktop/Repositorys_Github/LLM/Docs/last_paper_{today}.pdf\"\n",
    "\n",
    "if last_paper_link:\n",
    "    print(\"Letztes Paper-Link:\", 'https://www.jmlr.org' + last_paper_link) \n",
    "    loader.download_pdf('https://www.jmlr.org' + last_paper_link, save_path)  # Download PDF\n",
    "else:\n",
    "    print(\"Fehler beim Laden der Webseite oder keine PDF-Papiere gefunden.\")\n"
   ]
  },
  {
   "cell_type": "code",
   "execution_count": null,
   "metadata": {},
   "outputs": [],
   "source": [
    "import requests\n",
    "from bs4 import BeautifulSoup\n",
    "from datetime import date\n",
    "import PyPDF2\n",
    "from io import BytesIO\n",
    "import time\n",
    "\n",
    "class WebBaseLoader:\n",
    "    def __init__(self, url):\n",
    "        self.url = url\n",
    "\n",
    "    def load(self):\n",
    "        response = requests.get(self.url)\n",
    "        if response.status_code == 200:\n",
    "            return response.text\n",
    "        else:\n",
    "            return None\n",
    "\n",
    "    def get_last_paper_link(self):\n",
    "        html_content = self.load()\n",
    "        if html_content:\n",
    "            soup = BeautifulSoup(html_content, 'html.parser')\n",
    "            paper_links = soup.find_all('a', href=True)\n",
    "            pdf_links = [link['href'] for link in paper_links if link['href'].endswith('.pdf')]\n",
    "            if pdf_links:\n",
    "                return pdf_links[0]\n",
    "            else:\n",
    "                return None\n",
    "        else:\n",
    "            return None\n",
    "        \n",
    "    def download_pdf(self, pdf_link, save_path): \n",
    "        response = requests.get(pdf_link)\n",
    "        if response.status_code == 200:\n",
    "            # Überprüfen, ob das heruntergeladene PDF sowohl \"Abstract\" als auch \"Conclusion\" enthält\n",
    "            relevant_pages = self.extract_pages_with_keywords(response.content, [\"Abstract\", \"Conclusion\"])\n",
    "            if relevant_pages:\n",
    "                with open(save_path, 'wb') as file:\n",
    "                    writer = PyPDF2.PdfFileWriter()\n",
    "                    reader = PyPDF2.PdfFileReader(BytesIO(response.content))\n",
    "                    for page_num in relevant_pages:\n",
    "                        writer.addPage(reader.getPage(page_num))\n",
    "                    writer.write(file)\n",
    "                print(\"PDF erfolgreich heruntergeladen und gespeichert unter:\", save_path)\n",
    "            else:\n",
    "                print(\"Das PDF enthält weder Abstract noch Conclusion.\")\n",
    "        else:\n",
    "            print(\"Fehler beim Herunterladen der PDF-Datei.\")\n",
    "\n",
    "    def extract_pages_with_keywords(self, pdf_content, keywords):\n",
    "        extracted_pages = []\n",
    "        reader = PyPDF2.PdfFileReader(BytesIO(pdf_content))\n",
    "        for page_num in range(reader.numPages):\n",
    "            page = reader.getPage(page_num)\n",
    "            text = page.extractText()\n",
    "            if any(keyword.lower() in text.lower() for keyword in keywords):\n",
    "                extracted_pages.append(page_num)\n",
    "        return extracted_pages\n",
    "\n",
    "loader = WebBaseLoader(\"https://www.jmlr.org/\")\n",
    "last_paper_link = loader.get_last_paper_link()  \n",
    "today = date.today()\n",
    "current_time = time.strftime(\"%H_%M_%S\")\n",
    "save_path = f\"last_paper_{today,current_time}.pdf\"\n",
    "\n",
    "if last_paper_link:\n",
    "    print(\"Letztes Paper-Link:\", 'https://www.jmlr.org' + last_paper_link) \n",
    "    loader.download_pdf('https://www.jmlr.org' + last_paper_link, save_path)  \n",
    "else:\n",
    "    print(\"Fehler beim Laden der Webseite oder keine PDF-Papiere gefunden.\")\n"
   ]
  },
  {
   "cell_type": "markdown",
   "metadata": {},
   "source": [
    "# get only txt of artificile paper"
   ]
  },
  {
   "cell_type": "code",
   "execution_count": 8,
   "metadata": {},
   "outputs": [
    {
     "name": "stdout",
     "output_type": "stream",
     "text": [
      "Formatted Date and Time: 2024-03-16_11_31_28\n"
     ]
    }
   ],
   "source": [
    "from datetime import datetime\n",
    "\n",
    "# datetime object containing current date and time\n",
    "now = datetime.now()\n",
    "\n",
    "# Formatieren des Datums und der Uhrzeit\n",
    "# Ändere das Format entsprechend deinen Anforderungen\n",
    "formatted_date_time = now.strftime(\"%Y-%m-%d_%H_%M_%S\")\n",
    "print(\"Formatted Date and Time:\", formatted_date_time)\n"
   ]
  }
 ],
 "metadata": {
  "kernelspec": {
   "display_name": "llm_train",
   "language": "python",
   "name": "python3"
  },
  "language_info": {
   "codemirror_mode": {
    "name": "ipython",
    "version": 3
   },
   "file_extension": ".py",
   "mimetype": "text/x-python",
   "name": "python",
   "nbconvert_exporter": "python",
   "pygments_lexer": "ipython3",
   "version": "3.11.5"
  }
 },
 "nbformat": 4,
 "nbformat_minor": 2
}
